{
 "cells": [
  {
   "cell_type": "code",
   "execution_count": 3,
   "id": "cabf13cf",
   "metadata": {},
   "outputs": [],
   "source": [
    "import os\n",
    "import sys"
   ]
  },
  {
   "cell_type": "code",
   "execution_count": 4,
   "id": "67e3485a",
   "metadata": {},
   "outputs": [],
   "source": [
    "def Trim_auto(data, output):\n",
    "    # data 数据文件的路径\n",
    "    # output 输出文件的路径\n",
    "    if data.endswith(\".fq_1\") and data.replace(\"_1\", \"_2\") in os.listdir(os.path.dirname(data)): # 双端测序\n",
    "        data_2 = data.replace(\"_1\", \"_2\") # 生成配对文件路径\n",
    "        output_1 = output.replace(\".fq_1\", \"trimmed_1.fq\")\n",
    "        output_2 = output.replace(\".fq_2\", \"trimmed_2.fq\") # 生成输出文件的路径\n",
    "        # 生成trim_galore命令，指定输出文件的路径，添加--paired和--rrbs参数，适应双端和链特异性的数据\n",
    "        cmd = f\"/Users/guojiayi/DMR_prediction/TrimGalore-0.6.10/trim_galore -o {output_1} -o {output_2} --paired --rrbs {data} {data_2}\"\n",
    "    elif data.endswith(\".fastq\"): # 单端测序\n",
    "        cmd = f\"/Users/guojiayi/DMR_prediction/TrimGalore-0.6.10/trim_galore -o {output} -q 30 {data}\"\n",
    "    else: # 无效数据文件\n",
    "        print(f\"invalid data file: {data}\")\n",
    "        return\n",
    "    \n",
    "    print(f\"Finish triming for {data}\")\n",
    "    os.system(cmd)\n",
    "    print(f\"Finish triming for {data}\") # 打印完成信息"
   ]
  },
  {
   "cell_type": "code",
   "execution_count": 6,
   "id": "61552b87",
   "metadata": {},
   "outputs": [
    {
     "ename": "FileNotFoundError",
     "evalue": "[Errno 2] No such file or directory: '-f'",
     "output_type": "error",
     "traceback": [
      "\u001b[0;31m---------------------------------------------------------------------------\u001b[0m",
      "\u001b[0;31mFileNotFoundError\u001b[0m                         Traceback (most recent call last)",
      "Cell \u001b[0;32mIn[6], line 6\u001b[0m\n\u001b[1;32m      4\u001b[0m output_dir \u001b[38;5;241m=\u001b[39m sys\u001b[38;5;241m.\u001b[39margv[\u001b[38;5;241m2\u001b[39m] \u001b[38;5;66;03m#命令行第二个参数\u001b[39;00m\n\u001b[1;32m      5\u001b[0m \u001b[38;5;66;03m# 获取目录下的所有文件名\u001b[39;00m\n\u001b[0;32m----> 6\u001b[0m file_list \u001b[38;5;241m=\u001b[39m os\u001b[38;5;241m.\u001b[39mlistdir(data_dir)\n\u001b[1;32m      7\u001b[0m \u001b[38;5;66;03m# 用列表推导式过滤掉格式不对的文件\u001b[39;00m\n\u001b[1;32m      8\u001b[0m data_list \u001b[38;5;241m=\u001b[39m [file \u001b[38;5;28;01mfor\u001b[39;00m file \u001b[38;5;129;01min\u001b[39;00m file_list \u001b[38;5;28;01mif\u001b[39;00m file\u001b[38;5;241m.\u001b[39mendswith(\u001b[38;5;124m\"\u001b[39m\u001b[38;5;124mfastq\u001b[39m\u001b[38;5;124m\"\u001b[39m) \u001b[38;5;129;01mor\u001b[39;00m file\u001b[38;5;241m.\u001b[39mendswith(\u001b[38;5;124m\"\u001b[39m\u001b[38;5;124mfq_1\u001b[39m\u001b[38;5;124m\"\u001b[39m, \u001b[38;5;124m\"\u001b[39m\u001b[38;5;124mfq_2\u001b[39m\u001b[38;5;124m\"\u001b[39m)]\n",
      "\u001b[0;31mFileNotFoundError\u001b[0m: [Errno 2] No such file or directory: '-f'"
     ]
    }
   ],
   "source": [
    "# 获取数据目录的路径\n",
    "data_dir = sys.argv[1] #命令行第一个参数\n",
    "# 获取输出目录的路径\n",
    "output_dir = sys.argv[2] #命令行第二个参数\n",
    "# 获取目录下的所有文件名\n",
    "file_list = os.listdir(data_dir)\n",
    "# 用列表推导式过滤掉格式不对的文件\n",
    "data_list = [file for file in file_list if file.endswith(\"fastq\") or file.endswith(\"fq_1\")]\n",
    "# 用sorted函数对文件进行排序\n",
    "data_list = sorted(data_list)\n",
    "for file in data_list:\n",
    "    # 拼接数据文件的路径\n",
    "    data = os.path.join(data_dir, file)\n",
    "    # 分割文件的基本名和扩展名\n",
    "    base, ext = os.path.splitext(file)\n",
    "    # 生成输出文件的路径\n",
    "    output = os.path.join(output_dir, base + \"_trimmed\" + ext)\n",
    "    Trim_auto(data, output)"
   ]
  },
  {
   "cell_type": "code",
   "execution_count": null,
   "id": "6fcf766d",
   "metadata": {},
   "outputs": [],
   "source": []
  }
 ],
 "metadata": {
  "kernelspec": {
   "display_name": "Python 3 (ipykernel)",
   "language": "python",
   "name": "python3"
  },
  "language_info": {
   "codemirror_mode": {
    "name": "ipython",
    "version": 3
   },
   "file_extension": ".py",
   "mimetype": "text/x-python",
   "name": "python",
   "nbconvert_exporter": "python",
   "pygments_lexer": "ipython3",
   "version": "3.11.5"
  },
  "toc": {
   "base_numbering": 1,
   "nav_menu": {},
   "number_sections": true,
   "sideBar": true,
   "skip_h1_title": false,
   "title_cell": "Table of Contents",
   "title_sidebar": "Contents",
   "toc_cell": false,
   "toc_position": {},
   "toc_section_display": true,
   "toc_window_display": false
  }
 },
 "nbformat": 4,
 "nbformat_minor": 5
}
